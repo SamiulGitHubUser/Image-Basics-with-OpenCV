{
 "cells": [
  {
   "cell_type": "markdown",
   "metadata": {},
   "source": [
    "# Direct Drawing with Mouse"
   ]
  },
  {
   "cell_type": "markdown",
   "metadata": {},
   "source": [
    "## SCRIPT 1: Connecting a Function for Drawing"
   ]
  },
  {
   "cell_type": "code",
   "execution_count": 2,
   "metadata": {},
   "outputs": [],
   "source": [
    "import cv2\n",
    "import numpy as np\n",
    "\n",
    "##############\n",
    "## Function ##\n",
    "##############\n",
    "def draw_circle(event, x, y, flags, param):\n",
    "    if event == cv2.EVENT_FLAG_LBUTTON:\n",
    "        cv2.circle(img=img, \n",
    "                   center=(x,y), \n",
    "                   radius=50, \n",
    "                   color=(0,255,0), \n",
    "                   thickness=-1)\n",
    "\n",
    "\n",
    "## Call function draw_circle()\n",
    "cv2.namedWindow(winname='my_drawing')\n",
    "cv2.setMouseCallback('my_drawing', draw_circle)\n",
    "\n",
    "\n",
    "###############################\n",
    "## SHOWING IMAGE WITH OPENCV ##\n",
    "###############################\n",
    "img = np.zeros((512, 512, 3))\n",
    "while True:\n",
    "    cv2.imshow('my_drawing', img)\n",
    "    \n",
    "    if cv2.waitKey(20) & 0xFF == 27:\n",
    "        break       \n",
    "cv2.destroyAllWindows()\n"
   ]
  },
  {
   "cell_type": "markdown",
   "metadata": {},
   "source": [
    "## SCRIPT 2: Adding Functionality with Event Choices"
   ]
  },
  {
   "cell_type": "code",
   "execution_count": 24,
   "metadata": {},
   "outputs": [],
   "source": [
    "import cv2\n",
    "import numpy as np\n",
    "\n",
    "##############\n",
    "## Function ##\n",
    "##############\n",
    "font = cv2.FONT_HERSHEY_SIMPLEX\n",
    "\n",
    "def draw_circle(event, x, y, flags, param):\n",
    "    if event == cv2.EVENT_LBUTTONDOWN:\n",
    "        cv2.circle(img=img, \n",
    "                   center=(x,y), \n",
    "                   radius=70, \n",
    "                   color=(0,255,0), \n",
    "                   thickness=-1)\n",
    "        cv2.putText(img,\n",
    "                    text='Left Clicked',\n",
    "                    org=(x-45,y+5), fontFace=font,\n",
    "                    fontScale= 0.5,\n",
    "                    color=(0,0,0),\n",
    "                    thickness=1,\n",
    "                    lineType=cv2.LINE_AA)\n",
    "        \n",
    "    elif event == cv2.EVENT_RBUTTONDOWN:\n",
    "        cv2.circle(img,(x,y),70,(0,0,255),-1)\n",
    "        cv2.putText(img,\n",
    "                    text='Right Clicked',\n",
    "                    org=(x-45,y+5), fontFace=font,\n",
    "                    fontScale= 0.5,\n",
    "                    color=(255,255,255),\n",
    "                    thickness=1,\n",
    "                    lineType=cv2.LINE_AA)\n",
    "\n",
    "\n",
    "## Call function draw_circle()\n",
    "cv2.namedWindow(winname='my_drawing')\n",
    "cv2.setMouseCallback('my_drawing', draw_circle)\n",
    "\n",
    "\n",
    "###############################\n",
    "## SHOWING IMAGE WITH OPENCV ##\n",
    "###############################\n",
    "img = np.zeros((512, 512, 3))\n",
    "while True:\n",
    "    cv2.imshow('my_drawing', img)\n",
    "    \n",
    "    if cv2.waitKey(20) & 0xFF == 27:\n",
    "        break       \n",
    "cv2.destroyAllWindows()\n"
   ]
  },
  {
   "cell_type": "markdown",
   "metadata": {},
   "source": [
    "## SCRIPT 3: Dragging with Mouse"
   ]
  },
  {
   "cell_type": "code",
   "execution_count": 8,
   "metadata": {},
   "outputs": [],
   "source": [
    "import cv2\n",
    "import numpy as np\n",
    "\n",
    "##############\n",
    "## Function ##\n",
    "##############\n",
    "drawing = False\n",
    "ix, iy = -1, -1\n",
    "\n",
    "def draw_circle(event, x, y, flags, param):\n",
    "    global ix,iy,drawing\n",
    "    \n",
    "    if event == cv2.EVENT_LBUTTONDOWN:\n",
    "        drawing = True\n",
    "        ix, iy = x, y\n",
    "        \n",
    "    elif event == cv2.EVENT_RBUTTONDOWN:\n",
    "        # Now the mouse is moving\n",
    "        if drawing == True:\n",
    "            cv2.rectangle(img,(ix,iy),(x,y),(0,255,0),-1)\n",
    "            \n",
    "    elif event == cv2.EVENT_LBUTTONUP:\n",
    "        # Once you lift the mouse button, drawing is False\n",
    "        drawing = False\n",
    "        cv2.rectangle(img,(ix,iy),(x,y),(0,255,0),-1)\n",
    "        \n",
    "\n",
    "\n",
    "## Call function draw_circle()\n",
    "cv2.namedWindow(winname='my_drawing')\n",
    "cv2.setMouseCallback('my_drawing', draw_circle)\n",
    "\n",
    "\n",
    "###############################\n",
    "## SHOWING IMAGE WITH OPENCV ##\n",
    "###############################\n",
    "img = np.zeros((512, 512, 3))\n",
    "while True:\n",
    "    cv2.imshow('my_drawing', img)\n",
    "    \n",
    "    if cv2.waitKey(20) & 0xFF == 27:\n",
    "        break       \n",
    "cv2.destroyAllWindows()\n"
   ]
  },
  {
   "cell_type": "code",
   "execution_count": null,
   "metadata": {},
   "outputs": [],
   "source": []
  }
 ],
 "metadata": {
  "kernelspec": {
   "display_name": "Python 3",
   "language": "python",
   "name": "python3"
  },
  "language_info": {
   "codemirror_mode": {
    "name": "ipython",
    "version": 3
   },
   "file_extension": ".py",
   "mimetype": "text/x-python",
   "name": "python",
   "nbconvert_exporter": "python",
   "pygments_lexer": "ipython3",
   "version": "3.7.6"
  }
 },
 "nbformat": 4,
 "nbformat_minor": 4
}
